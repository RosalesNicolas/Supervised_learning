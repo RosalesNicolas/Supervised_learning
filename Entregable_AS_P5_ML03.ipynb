{
 "cells": [
  {
   "cell_type": "markdown",
   "source": [
    "# **Diplomatura en Ciencia de Datos, Aprendizaje Automático y sus Aplicaciones**\n",
    "\n",
    "# **Aprendizaje Supervisado**\n",
    "\n",
    "## Entregable: MODELO DE CLASIFICACIÓN PARTE 3\n",
    "\n",
    "## GRUPO Nº24\n",
    "\n",
    "## INTEGRANTES:\n",
    "   - Clarisa Manzone\n",
    "   - Nico Rosales\n",
    "   - Daniel Rubio\n",
    "   - Diana Fonnegra\n",
    "   ------"
   ],
   "metadata": {
    "collapsed": false,
    "pycharm": {
     "name": "#%% md\n"
    }
   }
  },
  {
   "cell_type": "markdown",
   "source": [
    "## Modelo de clasificación: XGBoost\n",
    "-------"
   ],
   "metadata": {
    "collapsed": false,
    "pycharm": {
     "name": "#%% md\n"
    }
   }
  },
  {
   "cell_type": "code",
   "execution_count": 1,
   "metadata": {
    "pycharm": {
     "name": "#%%\n"
    }
   },
   "outputs": [],
   "source": [
    "# Importación de modulos\n",
    "\n",
    "import pandas as pd\n",
    "import numpy as np\n",
    "import random\n",
    "import matplotlib.pyplot as plt\n",
    "import seaborn as sns\n",
    "import warnings\n",
    "from pprint import pprint\n",
    "from utils import evaluate\n",
    "\n",
    "from scipy.stats import norm\n",
    "\n",
    "from sklearn.experimental import enable_iterative_imputer\n",
    "from sklearn.preprocessing import StandardScaler, LabelEncoder\n",
    "from sklearn.impute import SimpleImputer, KNNImputer, IterativeImputer\n",
    "from sklearn.preprocessing import LabelEncoder, OneHotEncoder\n",
    "\n",
    "\n",
    "\n",
    "from sklearn.decomposition import PCA\n",
    "\n",
    "from sklearn.model_selection import cross_val_score, cross_validate, KFold, StratifiedKFold, \\\n",
    "    LeaveOneOut, LeavePOut,train_test_split, GridSearchCV, StratifiedKFold\n",
    "\n",
    "from sklearn.metrics import recall_score, accuracy_score, precision_score, \\\n",
    "    f1_score, roc_auc_score, mean_squared_error, r2_score, confusion_matrix, \\\n",
    "    classification_report, ConfusionMatrixDisplay, accuracy_score, ConfusionMatrixDisplay, \\\n",
    "    classification_report\n",
    "\n",
    "from sklearn.tree import DecisionTreeClassifier\n",
    "from sklearn.ensemble import RandomForestClassifier\n",
    "from sklearn.linear_model import LogisticRegression, SGDClassifier\n",
    "from sklearn.neural_network import MLPClassifier\n",
    "from xgboost import XGBClassifier\n",
    "from sklearn.naive_bayes import GaussianNB\n",
    "from sklearn.svm import LinearSVC\n",
    "\n",
    "import missingno as msno\n",
    "\n",
    "sns.set_context('talk')\n",
    "warnings.filterwarnings(\"ignore\")"
   ]
  },
  {
   "cell_type": "markdown",
   "source": [
    "### Lectura del dataset"
   ],
   "metadata": {
    "collapsed": false,
    "pycharm": {
     "name": "#%% md\n"
    }
   }
  },
  {
   "cell_type": "code",
   "execution_count": 69,
   "metadata": {
    "pycharm": {
     "name": "#%%\n"
    }
   },
   "outputs": [],
   "source": [
    "# Carga de los datasets (train y test)\n",
    "train_titanic = pd.read_csv('CK_train.csv')\n",
    "test_titanic = pd.read_csv('CK_test.csv')"
   ]
  },
  {
   "cell_type": "markdown",
   "source": [
    "### Extracción y resguardo de las etiquetas del set de entrenamiento"
   ],
   "metadata": {
    "collapsed": false,
    "pycharm": {
     "name": "#%% md\n"
    }
   }
  },
  {
   "cell_type": "code",
   "execution_count": 70,
   "outputs": [],
   "source": [
    "y = train_titanic['Transported']\n",
    "y.replace({False: 0, True: 1},inplace=True)"
   ],
   "metadata": {
    "collapsed": false,
    "pycharm": {
     "name": "#%%\n"
    }
   }
  },
  {
   "cell_type": "markdown",
   "source": [
    "### Lectura del dataset con los datos curados (Entrenamiento y prueba)\n",
    " - En el dataframe g_dataset cargamos los datos curados\n",
    " - IMPORTANTE: No confundir g_dataset con el homonimo de etapas previas de estudio(ej: EDA y curado).\n",
    " - g_dataset contiene datos preparados para aplicar directamente sobre el desarrollo de los modelos de clasificación"
   ],
   "metadata": {
    "collapsed": false,
    "pycharm": {
     "name": "#%% md\n"
    }
   }
  },
  {
   "cell_type": "code",
   "execution_count": 71,
   "outputs": [
    {
     "data": {
      "text/plain": "(8693, 36)"
     },
     "execution_count": 71,
     "metadata": {},
     "output_type": "execute_result"
    }
   ],
   "source": [
    "g_dataset = pd.read_csv('g_dataset_c.csv')\n",
    "g_dataset.shape"
   ],
   "metadata": {
    "collapsed": false,
    "pycharm": {
     "name": "#%%\n"
    }
   }
  },
  {
   "cell_type": "code",
   "execution_count": 72,
   "outputs": [],
   "source": [
    "# scaler = StandardScaler()\n",
    "# scaler.fit(g_dataset)\n",
    "# g_dataset=scaler.transform(g_dataset)\n"
   ],
   "metadata": {
    "collapsed": false,
    "pycharm": {
     "name": "#%%\n"
    }
   }
  },
  {
   "cell_type": "markdown",
   "source": [
    "### Separacion de los grupo de entrenamiento y prueba globales.\n",
    " - X representa el set de entrenamiento global.\n",
    " - A partir del mismo se generará el conjunto de entrenamiento y test para el desarrollo de los diferentes modelos."
   ],
   "metadata": {
    "collapsed": false,
    "pycharm": {
     "name": "#%% md\n"
    }
   }
  },
  {
   "cell_type": "code",
   "execution_count": 73,
   "outputs": [
    {
     "data": {
      "text/plain": "((7823, 36), (7823,))"
     },
     "execution_count": 73,
     "metadata": {},
     "output_type": "execute_result"
    }
   ],
   "source": [
    "X = g_dataset[: len(train_titanic)]\n",
    "X_to_predict = g_dataset[len(train_titanic):]\n",
    "\n",
    "# El set de datos disponible para el estudio y desarrollo de los modelos de clasificación\n",
    "X.shape, y.shape"
   ],
   "metadata": {
    "collapsed": false,
    "pycharm": {
     "name": "#%%\n"
    }
   }
  },
  {
   "cell_type": "code",
   "execution_count": 74,
   "outputs": [
    {
     "data": {
      "text/plain": "(870, 36)"
     },
     "execution_count": 74,
     "metadata": {},
     "output_type": "execute_result"
    }
   ],
   "source": [
    "# Los datos a predecir y realizar el submmit a Kaggle son:\n",
    "X_to_predict.shape"
   ],
   "metadata": {
    "collapsed": false,
    "pycharm": {
     "name": "#%%\n"
    }
   }
  },
  {
   "cell_type": "markdown",
   "source": [
    "### Planteo General de distintos modelos de clasificación"
   ],
   "metadata": {
    "collapsed": false,
    "pycharm": {
     "name": "#%% md\n"
    }
   }
  },
  {
   "cell_type": "code",
   "execution_count": 75,
   "outputs": [],
   "source": [
    "clfs =  [DecisionTreeClassifier(random_state=10),\n",
    "        RandomForestClassifier(random_state=10),\n",
    "        LogisticRegression(random_state=10),\n",
    "        MLPClassifier(random_state=10),\n",
    "        XGBClassifier(random_state=10),\n",
    "        GaussianNB(),\n",
    "        LinearSVC(random_state=10),\n",
    "        SGDClassifier(random_state=10)]\n",
    "\n",
    "names = ['Arbol de decisión',\n",
    "        'Random Forest',\n",
    "        'Regresión Logística',\n",
    "        'Perceptrón multicapa',\n",
    "        'XGBoost',\n",
    "        'Naive Bayes',\n",
    "        'Suport Vector Machine',\n",
    "        'Stochastic Gradient Descent']\n",
    "\n",
    "trained_models = []\n",
    "accuracy_models = []\n"
   ],
   "metadata": {
    "collapsed": false,
    "pycharm": {
     "name": "#%%\n"
    }
   }
  },
  {
   "cell_type": "markdown",
   "source": [
    "#### Generación de los datos de entrenamiento y prueba a fin de estudiar los distintos modelos"
   ],
   "metadata": {
    "collapsed": false,
    "pycharm": {
     "name": "#%% md\n"
    }
   }
  },
  {
   "cell_type": "code",
   "execution_count": 76,
   "outputs": [],
   "source": [
    "X_train, X_test, y_train, y_test = train_test_split( X, y, test_size=0.2, random_state=10)\n",
    "\n"
   ],
   "metadata": {
    "collapsed": false,
    "pycharm": {
     "name": "#%%\n"
    }
   }
  },
  {
   "cell_type": "markdown",
   "source": [
    "### Estudio del perfomance de los distintos modelos"
   ],
   "metadata": {
    "collapsed": false,
    "pycharm": {
     "name": "#%% md\n"
    }
   }
  },
  {
   "cell_type": "code",
   "execution_count": 77,
   "outputs": [
    {
     "name": "stdout",
     "output_type": "stream",
     "text": [
      "Modelo                         Acc Train [%]    Acc Test [%]\n",
      "---------------------------  ---------------  --------------\n",
      "Arbol de decisión                      99.97           75.59\n",
      "Random Forest                          99.97           81.85\n",
      "Regresión Logística                    78.68           80.26\n",
      "Perceptrón multicapa                   67.18           65.75\n",
      "XGBoost                                95.16           81.92\n",
      "Naive Bayes                            76.08           77\n",
      "Suport Vector Machine                  50.69           50.54\n",
      "Stochastic Gradient Descent            78.41           80\n"
     ]
    }
   ],
   "source": [
    "from tabulate import tabulate\n",
    "\n",
    "list_report = []\n",
    "\n",
    "for clf, name in zip(clfs, names):\n",
    "\n",
    "    clf.fit(X_train, y_train)\n",
    "\n",
    "    train_predictions = clf.predict(X_train)\n",
    "    accuracy_train = round( accuracy_score(y_train, train_predictions) * 100.0, 2)\n",
    "\n",
    "    test_predictions = clf.predict(X_test)\n",
    "    accuracy_test = round(accuracy_score(y_test, test_predictions) * 100.0, 2)\n",
    "\n",
    "    list_report.append([name, accuracy_train, accuracy_test])\n",
    "\n",
    "print(tabulate(list_report, headers=[\"Modelo\",\"Acc Train [%]\", \"Acc Test [%]\"]))"
   ],
   "metadata": {
    "collapsed": false,
    "pycharm": {
     "name": "#%%\n"
    }
   }
  },
  {
   "cell_type": "markdown",
   "source": [
    "### Seleccionamos XGBoost para profundizar su desarrollo"
   ],
   "metadata": {
    "collapsed": false,
    "pycharm": {
     "name": "#%% md\n"
    }
   }
  },
  {
   "cell_type": "code",
   "execution_count": 78,
   "outputs": [],
   "source": [
    "clf=XGBClassifier(random_state=10).fit(X_train, y_train)"
   ],
   "metadata": {
    "collapsed": false,
    "pycharm": {
     "name": "#%%\n"
    }
   }
  },
  {
   "cell_type": "code",
   "execution_count": 79,
   "outputs": [
    {
     "data": {
      "text/plain": "81.92"
     },
     "execution_count": 79,
     "metadata": {},
     "output_type": "execute_result"
    }
   ],
   "source": [
    "test_predictions = clf.predict(X_test)\n",
    "accuracy_test = round(accuracy_score(y_test, test_predictions) * 100.0, 2)\n",
    "accuracy_test"
   ],
   "metadata": {
    "collapsed": false,
    "pycharm": {
     "name": "#%%\n"
    }
   }
  },
  {
   "cell_type": "code",
   "execution_count": 80,
   "outputs": [
    {
     "name": "stdout",
     "output_type": "stream",
     "text": [
      "Los parametros del modelo bajo análisis son:\n",
      "\n",
      "{'base_score': 0.5,\n",
      " 'booster': 'gbtree',\n",
      " 'callbacks': None,\n",
      " 'colsample_bylevel': 1,\n",
      " 'colsample_bynode': 1,\n",
      " 'colsample_bytree': 1,\n",
      " 'early_stopping_rounds': None,\n",
      " 'enable_categorical': False,\n",
      " 'eval_metric': None,\n",
      " 'gamma': 0,\n",
      " 'gpu_id': -1,\n",
      " 'grow_policy': 'depthwise',\n",
      " 'importance_type': None,\n",
      " 'interaction_constraints': '',\n",
      " 'learning_rate': 0.300000012,\n",
      " 'max_bin': 256,\n",
      " 'max_cat_to_onehot': 4,\n",
      " 'max_delta_step': 0,\n",
      " 'max_depth': 6,\n",
      " 'max_leaves': 0,\n",
      " 'min_child_weight': 1,\n",
      " 'missing': nan,\n",
      " 'monotone_constraints': '()',\n",
      " 'n_estimators': 100,\n",
      " 'n_jobs': 0,\n",
      " 'num_parallel_tree': 1,\n",
      " 'objective': 'binary:logistic',\n",
      " 'predictor': 'auto',\n",
      " 'random_state': 10,\n",
      " 'reg_alpha': 0,\n",
      " 'reg_lambda': 1,\n",
      " 'sampling_method': 'uniform',\n",
      " 'scale_pos_weight': 1,\n",
      " 'subsample': 1,\n",
      " 'tree_method': 'exact',\n",
      " 'use_label_encoder': False,\n",
      " 'validate_parameters': 1,\n",
      " 'verbosity': None}\n"
     ]
    }
   ],
   "source": [
    "print('Los parametros del modelo bajo análisis son:\\n')\n",
    "pprint(clf.get_params())"
   ],
   "metadata": {
    "collapsed": false,
    "pycharm": {
     "name": "#%%\n"
    }
   }
  },
  {
   "cell_type": "markdown",
   "metadata": {
    "pycharm": {
     "name": "#%% md\n"
    }
   },
   "source": [
    "### Buscando los mejores hiperparámetros del modelo..."
   ]
  },
  {
   "cell_type": "markdown",
   "source": [
    "### HYPEROPT\n",
    " - Es una poderosa biblioteca de Python que procura obtener los mejores valores posibles que producen el mínimo de la función de pérdida.\n",
    " - La técnica de optimización bayesiana utiliza Hyperopt para ajustar los hiperparámetros del modelo.\n",
    "\n",
    "#### El proceso de optimización:\n",
    " - Inicializar espacio de dominio: son los valores de entrada sobre los que queremos buscar.\n",
    " - Definir función objetivo: puede ser cualquier función que queramos minimizar.\n",
    " - En este caso, queremos minimizar el error de validación de un modelo de aprendizaje automático con respecto a los hiperparámetros.\n",
    " - Si el valor real es la precisión, entonces queremos maximizarlo (la función debería devolver el negativo de esa métrica).\n",
    "3. Algoritmo de optimización: Es el método utilizado para construir la función objetivo sustituta y elegir los siguientes valores a evaluar.\n",
    "4. Resultados: pares de puntajes o valores que el algoritmo usa para construir el modelo.\n"
   ],
   "metadata": {
    "collapsed": false,
    "pycharm": {
     "name": "#%% md\n"
    }
   }
  },
  {
   "cell_type": "code",
   "execution_count": 81,
   "outputs": [],
   "source": [
    "# import packages for hyperparameters tuning\n",
    "from hyperopt import STATUS_OK, Trials, fmin, hp, tpe\n",
    "\n",
    "space={'max_depth': hp.quniform(\"max_depth\", 3, 18, 1),\n",
    "        'gamma': hp.uniform ('gamma', 1,9),\n",
    "        'reg_alpha' : hp.quniform('reg_alpha', 40,180,1),\n",
    "        'reg_lambda' : hp.uniform('reg_lambda', 0,1),\n",
    "        'colsample_bytree' : hp.uniform('colsample_bytree', 0.5,1),\n",
    "        'min_child_weight' : hp.quniform('min_child_weight', 0, 10, 1),\n",
    "        'n_estimators': 180,\n",
    "        'seed': 10\n",
    "    }"
   ],
   "metadata": {
    "collapsed": false,
    "pycharm": {
     "name": "#%%\n"
    }
   }
  },
  {
   "cell_type": "markdown",
   "source": [],
   "metadata": {
    "collapsed": false,
    "pycharm": {
     "name": "#%% md\n"
    }
   }
  },
  {
   "cell_type": "code",
   "execution_count": 82,
   "outputs": [],
   "source": [
    "def objective(space):\n",
    "    clf=XGBClassifier(\n",
    "                    n_estimators =space['n_estimators'], max_depth = int(space['max_depth']), gamma = space['gamma'],\n",
    "                    reg_alpha = int(space['reg_alpha']),min_child_weight=int(space['min_child_weight']),\n",
    "                    colsample_bytree=int(space['colsample_bytree']))\n",
    "\n",
    "    evaluation = [( X_train, y_train), ( X_test, y_test)]\n",
    "\n",
    "    clf.fit(X_train, y_train,\n",
    "            eval_set=evaluation, eval_metric=\"auc\",\n",
    "            early_stopping_rounds=10,verbose=False)\n",
    "\n",
    "\n",
    "    pred = clf.predict(X_test)\n",
    "    accuracy = accuracy_score(y_test, pred>0.5)\n",
    "    print (\"SCORE:\", accuracy)\n",
    "    return {'loss': -accuracy, 'status': STATUS_OK }"
   ],
   "metadata": {
    "collapsed": false,
    "pycharm": {
     "name": "#%%\n"
    }
   }
  },
  {
   "cell_type": "code",
   "execution_count": 83,
   "outputs": [
    {
     "name": "stdout",
     "output_type": "stream",
     "text": [
      "SCORE:                                                \n",
      "0.7507987220447284                                    \n",
      "SCORE:                                                                           \n",
      "0.7463258785942491                                                               \n",
      "SCORE:                                                                           \n",
      "0.7488817891373802                                                               \n",
      "SCORE:                                                                           \n",
      "0.7514376996805112                                                               \n",
      "SCORE:                                                                           \n",
      "0.7488817891373802                                                               \n",
      "SCORE:                                                                           \n",
      "0.7476038338658147                                                               \n",
      "SCORE:                                                                           \n",
      "0.7456869009584665                                                               \n",
      "SCORE:                                                                           \n",
      "0.7514376996805112                                                               \n",
      "SCORE:                                                                           \n",
      "0.7463258785942491                                                               \n",
      "SCORE:                                                                           \n",
      "0.7456869009584665                                                               \n",
      "SCORE:                                                                            \n",
      "0.7456869009584665                                                                \n",
      "SCORE:                                                                            \n",
      "0.7501597444089457                                                                \n",
      "SCORE:                                                                            \n",
      "0.7463258785942491                                                                \n",
      "SCORE:                                                                            \n",
      "0.746964856230032                                                                 \n",
      "SCORE:                                                                            \n",
      "0.7507987220447284                                                                \n",
      "SCORE:                                                                            \n",
      "0.7488817891373802                                                                \n",
      "SCORE:                                                                            \n",
      "0.7463258785942491                                                                \n",
      "SCORE:                                                                            \n",
      "0.7507987220447284                                                                \n",
      "SCORE:                                                                            \n",
      "0.7463258785942491                                                                \n",
      "SCORE:                                                                            \n",
      "0.7463258785942491                                                                \n",
      "SCORE:                                                                            \n",
      "0.7520766773162939                                                                \n",
      "SCORE:                                                                            \n",
      "0.7514376996805112                                                                \n",
      "SCORE:                                                                            \n",
      "0.7520766773162939                                                                \n",
      "SCORE:                                                                            \n",
      "0.7501597444089457                                                                \n",
      "SCORE:                                                                            \n",
      "0.7456869009584665                                                                \n",
      "100%|██████████| 25/25 [00:04<00:00,  5.28trial/s, best loss: -0.7520766773162939]\n"
     ]
    }
   ],
   "source": [
    "trials = Trials()\n",
    "\n",
    "best_hyperparams = fmin(fn = objective,\n",
    "                        space = space,\n",
    "                        algo = tpe.suggest,\n",
    "                        max_evals = 25,\n",
    "                        trials = trials)"
   ],
   "metadata": {
    "collapsed": false,
    "pycharm": {
     "name": "#%%\n"
    }
   }
  },
  {
   "cell_type": "markdown",
   "source": [
    "### Resultado"
   ],
   "metadata": {
    "collapsed": false,
    "pycharm": {
     "name": "#%% md\n"
    }
   }
  },
  {
   "cell_type": "code",
   "execution_count": 84,
   "outputs": [
    {
     "name": "stdout",
     "output_type": "stream",
     "text": [
      "The best hyperparameters are :  \n",
      "\n",
      "{'colsample_bytree': 0.7154204654071739, 'gamma': 1.0221815843755566, 'max_depth': 10, 'min_child_weight': 10.0, 'reg_alpha': 46.0, 'reg_lambda': 0.30949247679346764}\n"
     ]
    }
   ],
   "source": [
    "best_hyperparams['max_depth']=int(best_hyperparams['max_depth'])\n",
    "print(\"The best hyperparameters are : \",\"\\n\")\n",
    "print(best_hyperparams)\n"
   ],
   "metadata": {
    "collapsed": false,
    "pycharm": {
     "name": "#%%\n"
    }
   }
  },
  {
   "cell_type": "code",
   "execution_count": 85,
   "outputs": [
    {
     "name": "stdout",
     "output_type": "stream",
     "text": [
      "Pred: [0 0 1 1 0 0 1 0 1 0]\n",
      "TEST: [0 0 1 1 0 0 1 0 1 0]\n",
      "error [0 0 0 0 0 0 0 0 0 0]\n",
      "18.849840255591054\n",
      "Model Performance\n",
      "Average Error: 0.1885 degrees.\n",
      "Accuracy = 81.15%.\n"
     ]
    }
   ],
   "source": [
    "base_model = XGBClassifier(**best_hyperparams)\n",
    "\n",
    "base_model.fit(X_train, y_train)\n",
    "base_accuracy = evaluate(base_model, X_test, y_test)"
   ],
   "metadata": {
    "collapsed": false,
    "pycharm": {
     "name": "#%%\n"
    }
   }
  },
  {
   "cell_type": "code",
   "execution_count": 86,
   "outputs": [],
   "source": [
    "test_predictions = base_model.predict(X_to_predict)\n",
    "submission = pd.DataFrame(list(zip(test_titanic[\"PassengerId\"], test_predictions)),\n",
    "                          columns=[\"PassengerId\", \"Transported\"])\n",
    "submission = pd.DataFrame(list(zip(test_titanic[\"PassengerId\"], test_predictions)),\n",
    "                          columns=[\"PassengerId\", \"Transported\"])\n",
    "submission['Transported'] = np.where(test_predictions > 0.5, 1, 0)\n",
    "\n"
   ],
   "metadata": {
    "collapsed": false,
    "pycharm": {
     "name": "#%%\n"
    }
   }
  },
  {
   "cell_type": "code",
   "execution_count": 87,
   "outputs": [
    {
     "name": "stdout",
     "output_type": "stream",
     "text": [
      "Accuracy train: 80.49%\n",
      "Accuracy test: 81.15%\n"
     ]
    },
    {
     "data": {
      "text/plain": "<Figure size 432x288 with 2 Axes>",
      "image/png": "[encoded data removed]"
     },
     "metadata": {
      "needs_background": "light"
     },
     "output_type": "display_data"
    },
    {
     "name": "stdout",
     "output_type": "stream",
     "text": [
      "              precision    recall  f1-score   support\n",
      "\n",
      "           0       0.82      0.79      0.81       770\n",
      "           1       0.81      0.83      0.82       795\n",
      "\n",
      "    accuracy                           0.81      1565\n",
      "   macro avg       0.81      0.81      0.81      1565\n",
      "weighted avg       0.81      0.81      0.81      1565\n",
      "\n"
     ]
    }
   ],
   "source": [
    "train_predictions = np.where(base_model.predict(X_train) > 0.5, 1, 0)\n",
    "accuracy = accuracy_score(y_train, train_predictions)\n",
    "print(\"Accuracy train: %.2f%%\" % (accuracy * 100.0))\n",
    "\n",
    "test_predictions = np.where(base_model.predict(X_test) > 0.5, 1, 0)\n",
    "accuracy = accuracy_score(y_test, test_predictions)\n",
    "print(\"Accuracy test: %.2f%%\" % (accuracy * 100.0))\n",
    "\n",
    "ConfusionMatrixDisplay.from_predictions(y_test, test_predictions)\n",
    "plt.show()\n",
    "\n",
    "print(classification_report(y_test,test_predictions))"
   ],
   "metadata": {
    "collapsed": false,
    "pycharm": {
     "name": "#%%\n"
    }
   }
  },
  {
   "cell_type": "markdown",
   "source": [
    "———–FINAL PARTE 5 de 5————–"
   ],
   "metadata": {
    "collapsed": false,
    "pycharm": {
     "name": "#%% md\n"
    }
   }
  },
  {
   "cell_type": "code",
   "execution_count": null,
   "outputs": [],
   "source": [],
   "metadata": {
    "collapsed": false,
    "pycharm": {
     "name": "#%%\n"
    }
   }
  }
 ],
 "metadata": {
  "kernelspec": {
   "display_name": "Python 3.9.13 ('diplodatos')",
   "language": "python",
   "name": "python3"
  },
  "language_info": {
   "codemirror_mode": {
    "name": "ipython",
    "version": 3
   },
   "file_extension": ".py",
   "mimetype": "text/x-python",
   "name": "python",
   "nbconvert_exporter": "python",
   "pygments_lexer": "ipython3",
   "version": "3.9.13"
  },
  "orig_nbformat": 4,
  "vscode": {
   "interpreter": {
    "hash": "e6b65fc4380ac725e50a330b268a227bbdbe91bddfffbf68e5f7ce9848a2b8d5"
   }
  }
 },
 "nbformat": 4,
 "nbformat_minor": 2
}